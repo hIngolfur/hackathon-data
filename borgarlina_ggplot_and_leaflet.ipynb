{
  "nbformat": 4,
  "nbformat_minor": 0,
  "metadata": {
    "colab": {
      "provenance": []
    },
    "kernelspec": {
      "name": "python3",
      "display_name": "Python 3"
    },
    "language_info": {
      "name": "python"
    }
  },
  "cells": [
    {
      "cell_type": "code",
      "execution_count": null,
      "metadata": {
        "id": "fqqd2T79SxR5"
      },
      "outputs": [],
      "source": [
        "!pip install contextily\n",
        "!pip install osmnx\n",
        "!pip install ipyleaflet\n",
        "!pip install geopandas matplotlib\n",
        "!pip install folium"
      ]
    },
    {
      "cell_type": "code",
      "source": [
        "import geopandas as gpd\n",
        "import pandas as pd\n",
        "import matplotlib.pyplot as plt\n",
        "\n",
        "# Load data (assuming file paths are correct)\n",
        "lina1 = gpd.read_file(\"cityline_2029.geojson\")\n",
        "pop = pd.read_csv(\"ibuafjoldi.csv\")\n",
        "smallarea = gpd.read_file(\"smasvaedi_2021.json\")\n",
        "dwellings = pd.read_csv(\"ibudir.csv\")\n",
        "\n",
        "# Reproject to WGS 84\n",
        "lina1 = lina1.to_crs(epsg=4326)\n",
        "smallarea = smallarea.to_crs(epsg=4326)\n",
        "\n",
        "# Data processing\n",
        "pop['smasvaedi'] = pop['smasvaedi'].astype(str).str.zfill(4)\n",
        "pop2024 = pop[(pop['ar'] == 2024) & (pop['aldursflokkur'] == \"10-14 ára\") & (pop['kyn'] == 1)]\n",
        "all_dwellings = dwellings[dwellings['framvinda'] == \"Fullbúið\"].groupby('smasvaedi')['Fjöldi'].sum().reset_index()\n",
        "pop2024_smallarea = pd.merge(smallarea, pop2024, left_on='smsv', right_on='smasvaedi', how='left')\n",
        "all_dwellings_smallarea = pd.merge(smallarea, all_dwellings, left_on='fid', right_on='smasvaedi', how='left')\n",
        "\n",
        "# Create maps\n",
        "fig, ax = plt.subplots(1, 1, figsize=(10, 10)) # Adjust figsize as needed\n",
        "pop2024_smallarea[pop2024_smallarea['nuts3'] == \"001\"].plot(column='fjoldi', ax=ax, legend=True, cmap='viridis') # Customize cmap\n",
        "lina1.plot(ax=ax, facecolor='none', edgecolor='black')\n",
        "ax.set_title(\"Population Map\") # Add title\n",
        "plt.show()\n",
        "\n",
        "fig, ax = plt.subplots(1, 1, figsize=(10, 10))\n",
        "all_dwellings_smallarea[all_dwellings_smallarea['nuts3'] == \"001\"].plot(column='Fjöldi', ax=ax, legend=True, cmap='viridis')\n",
        "lina1.plot(ax=ax, facecolor='none', edgecolor='black')\n",
        "ax.set_title(\"Dwellings Map\")\n",
        "\n",
        "plt.show()"
      ],
      "metadata": {
        "id": "TEiVElMgTJ2y"
      },
      "execution_count": null,
      "outputs": []
    },
    {
      "cell_type": "code",
      "source": [
        "from IPython import get_ipython\n",
        "from IPython.display import display\n",
        "#import contextily\n",
        "#import osmnx\n",
        "import ipyleaflet\n",
        "import geopandas as gpd\n",
        "import pandas as pd\n",
        "import folium\n",
        "\n",
        "def load_and_preprocess_data(geojson_file, pop_file, smallarea_file, dwellings_file):\n",
        "    lina1 = gpd.read_file(geojson_file)\n",
        "    pop = pd.read_csv(pop_file)\n",
        "    smallarea = gpd.read_file(smallarea_file)\n",
        "    dwellings = pd.read_csv(dwellings_file)\n",
        "\n",
        "    # Pad 'smasvaedi' column with leading zeros\n",
        "    pop['smasvaedi'] = pop['smasvaedi'].astype(str).str.zfill(4)\n",
        "\n",
        "    # Transform to WGS84\n",
        "    smallarea_wgs84 = smallarea.to_crs(epsg=4326)\n",
        "    lina1_wgs84 = lina1.to_crs(epsg=4326)\n",
        "\n",
        "    # Filter data\n",
        "    pop2024 = pop[(pop['ar'] == 2024) & (pop['aldursflokkur'] == \"0-4 ára\") & (pop['kyn'] == 1)]\n",
        "    all_dwellings = dwellings[dwellings['framvinda'] == \"Fullbúið\"].groupby('smasvaedi')['Fjöldi'].sum().reset_index()\n",
        "\n",
        "    # Join dataframes\n",
        "    pop2024_smallarea = smallarea_wgs84.merge(pop2024, left_on='smsv', right_on='smasvaedi', how='left')\n",
        "    all_dwellings_smallarea = smallarea_wgs84.merge(all_dwellings, left_on='fid', right_on='smasvaedi', how='left')\n",
        "\n",
        "    return lina1_wgs84, pop2024_smallarea, all_dwellings_smallarea\n",
        "\n",
        "def create_map(lina1_wgs84, all_dwellings_smallarea):\n",
        "    m = folium.Map()\n",
        "\n",
        "    # The 'dagsetning' column does not exist in all_dwellings_smallarea\n",
        "    #all_dwellings_smallarea['dagsetning'] = all_dwellings_smallarea['dagsetning'].astype(str)\n",
        "\n",
        "    # Add polygons to the map\n",
        "    folium.Choropleth(\n",
        "        geo_data=all_dwellings_smallarea[all_dwellings_smallarea['nuts3'] == '001'].to_json(),\n",
        "        name=\"choropleth\",\n",
        "        data=all_dwellings_smallarea,\n",
        "        columns=[\"smasvaedi\", \"Fjöldi\"],\n",
        "        key_on=\"feature.properties.smasvaedi\",\n",
        "        fill_color=\"YlGn\",\n",
        "        fill_opacity=0.7,\n",
        "        line_opacity=0.2,\n",
        "        legend_name=\"Dwellings\"\n",
        "    ).add_to(m)\n",
        "\n",
        "    # Add markers for lina1_wgs84\n",
        "    for _, r in lina1_wgs84.iterrows():\n",
        "        folium.Marker(location=[r.geometry.y, r.geometry.x]).add_to(m)\n",
        "\n",
        "    # Display the map\n",
        "    display(m)\n",
        "\n",
        "def main():\n",
        "  geojson_file = \"cityline_2030.geojson\"\n",
        "  pop_file = \"ibuafjoldi.csv\"\n",
        "  smallarea_file = \"smasvaedi_2021.json\"\n",
        "  dwellings_file = \"ibudir.csv\"\n",
        "\n",
        "  lina1_wgs84, pop2024_smallarea, all_dwellings_smallarea = load_and_preprocess_data(geojson_file, pop_file, smallarea_file, dwellings_file)\n",
        "  create_map(lina1_wgs84, all_dwellings_smallarea)  # Call the function to create the map\n",
        "\n",
        "if __name__ == \"__main__\":\n",
        "  main()"
      ],
      "metadata": {
        "id": "DiVoxI1jZelb"
      },
      "execution_count": null,
      "outputs": []
    }
  ]
}